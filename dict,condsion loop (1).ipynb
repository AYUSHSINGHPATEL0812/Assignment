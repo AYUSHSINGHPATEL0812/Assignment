{
 "cells": [
  {
   "cell_type": "code",
   "execution_count": 1,
   "id": "3a3f8705-d2f1-4705-9855-980040eeb54d",
   "metadata": {},
   "outputs": [],
   "source": [
    "d={}"
   ]
  },
  {
   "cell_type": "code",
   "execution_count": 2,
   "id": "53795050-63ab-420a-941b-a0e5d3a89100",
   "metadata": {},
   "outputs": [
    {
     "data": {
      "text/plain": [
       "dict"
      ]
     },
     "execution_count": 2,
     "metadata": {},
     "output_type": "execute_result"
    }
   ],
   "source": [
    "type(d)"
   ]
  },
  {
   "cell_type": "code",
   "execution_count": 3,
   "id": "a6784df4-fee0-46fe-9fb6-1910a335617e",
   "metadata": {},
   "outputs": [],
   "source": [
    "d1={'key':'sudh'}"
   ]
  },
  {
   "cell_type": "code",
   "execution_count": 4,
   "id": "4f4ba697-497b-426e-bc72-9109f6ef4ba4",
   "metadata": {},
   "outputs": [
    {
     "data": {
      "text/plain": [
       "{'key': 'sudh'}"
      ]
     },
     "execution_count": 4,
     "metadata": {},
     "output_type": "execute_result"
    }
   ],
   "source": [
    "d1"
   ]
  },
  {
   "cell_type": "code",
   "execution_count": 5,
   "id": "e80578a9-fd23-4a15-aa01-302039adebcb",
   "metadata": {},
   "outputs": [],
   "source": [
    "d2={'name':\"ayush\",\"email\":\"singhayushgmail.com\" ,\"number\":\"65845\"}"
   ]
  },
  {
   "cell_type": "code",
   "execution_count": 6,
   "id": "cfd77977-6b9b-4869-8211-7db6cbc8285a",
   "metadata": {},
   "outputs": [
    {
     "data": {
      "text/plain": [
       "{'name': 'ayush', 'email': 'singhayushgmail.com', 'number': '65845'}"
      ]
     },
     "execution_count": 6,
     "metadata": {},
     "output_type": "execute_result"
    }
   ],
   "source": [
    "d2"
   ]
  },
  {
   "cell_type": "code",
   "execution_count": 10,
   "id": "ae6d90c7-892b-4290-955b-1717f47ec42c",
   "metadata": {},
   "outputs": [],
   "source": [
    "d3={234:\"sudh\" ,'wer':\"kumar\",True:24578}"
   ]
  },
  {
   "cell_type": "code",
   "execution_count": 11,
   "id": "d8278b57-3511-403e-9a30-5b0270967118",
   "metadata": {},
   "outputs": [
    {
     "data": {
      "text/plain": [
       "{234: 'sudh', 'wer': 'kumar', True: 24578}"
      ]
     },
     "execution_count": 11,
     "metadata": {},
     "output_type": "execute_result"
    }
   ],
   "source": [
    "d3"
   ]
  },
  {
   "cell_type": "code",
   "execution_count": 12,
   "id": "c36457f5-5729-4928-bc17-d28580833642",
   "metadata": {},
   "outputs": [
    {
     "data": {
      "text/plain": [
       "'sudh'"
      ]
     },
     "execution_count": 12,
     "metadata": {},
     "output_type": "execute_result"
    }
   ],
   "source": [
    "d3[234]"
   ]
  },
  {
   "cell_type": "code",
   "execution_count": 13,
   "id": "eff92dce-6efe-454a-873f-5c0e30763a15",
   "metadata": {},
   "outputs": [
    {
     "data": {
      "text/plain": [
       "24578"
      ]
     },
     "execution_count": 13,
     "metadata": {},
     "output_type": "execute_result"
    }
   ],
   "source": [
    "d3[True]"
   ]
  },
  {
   "cell_type": "code",
   "execution_count": 14,
   "id": "e0fd83d6-a986-4775-80ec-27acf60c20a9",
   "metadata": {},
   "outputs": [
    {
     "data": {
      "text/plain": [
       "24578"
      ]
     },
     "execution_count": 14,
     "metadata": {},
     "output_type": "execute_result"
    }
   ],
   "source": [
    "d3[1]"
   ]
  },
  {
   "cell_type": "code",
   "execution_count": 18,
   "id": "b9f0c8d8-0c3d-424b-affa-14ef19606560",
   "metadata": {},
   "outputs": [],
   "source": [
    "d4={'name':'sudh',\"mail_id\":'ss@gmail.com',\"name\":'sudhanshu'}"
   ]
  },
  {
   "cell_type": "code",
   "execution_count": 19,
   "id": "b59d83ab-bb2c-4750-bc57-bf95298a226c",
   "metadata": {},
   "outputs": [
    {
     "data": {
      "text/plain": [
       "'sudhanshu'"
      ]
     },
     "execution_count": 19,
     "metadata": {},
     "output_type": "execute_result"
    }
   ],
   "source": [
    "d4['name']"
   ]
  },
  {
   "cell_type": "code",
   "execution_count": 21,
   "id": "dc134399-4ee7-4ed0-80d3-0886f60e8582",
   "metadata": {},
   "outputs": [],
   "source": [
    "d5={'company':'pwskills','course':['web dev','data science','java with dsa system design']}"
   ]
  },
  {
   "cell_type": "code",
   "execution_count": 23,
   "id": "38b20baf-4731-4342-97d0-7113b19d3206",
   "metadata": {},
   "outputs": [
    {
     "data": {
      "text/plain": [
       "{'company': 'pwskills',\n",
       " 'course': ['web dev', 'data science', 'java with dsa system design']}"
      ]
     },
     "execution_count": 23,
     "metadata": {},
     "output_type": "execute_result"
    }
   ],
   "source": [
    "d5"
   ]
  },
  {
   "cell_type": "code",
   "execution_count": 24,
   "id": "38f737dc-001d-40f3-a657-7377e0f0ff32",
   "metadata": {},
   "outputs": [
    {
     "data": {
      "text/plain": [
       "['web dev', 'data science', 'java with dsa system design']"
      ]
     },
     "execution_count": 24,
     "metadata": {},
     "output_type": "execute_result"
    }
   ],
   "source": [
    "d5['course']"
   ]
  },
  {
   "cell_type": "code",
   "execution_count": 25,
   "id": "749ee566-b591-4511-a0f8-3799f8256615",
   "metadata": {},
   "outputs": [
    {
     "data": {
      "text/plain": [
       "'java with dsa system design'"
      ]
     },
     "execution_count": 25,
     "metadata": {},
     "output_type": "execute_result"
    }
   ],
   "source": [
    "d5['course'][2]"
   ]
  },
  {
   "cell_type": "code",
   "execution_count": 27,
   "id": "6da1b34c-c47a-41fb-b846-f95843223717",
   "metadata": {},
   "outputs": [],
   "source": [
    "d6={\"number\":[2,34,3,34],\"assignment\":{1,2,3,4,5,6},\"launch_date\":{28,12,14},\"class_time\":{'web dev':8,\"data scince\":8,\"java with dsa and system design\":9}}"
   ]
  },
  {
   "cell_type": "code",
   "execution_count": 28,
   "id": "ba60ec4c-26e2-46a8-8f64-852663a9ef48",
   "metadata": {},
   "outputs": [
    {
     "data": {
      "text/plain": [
       "{'number': [2, 34, 3, 34],\n",
       " 'assignment': {1, 2, 3, 4, 5, 6},\n",
       " 'launch_date': {12, 14, 28},\n",
       " 'class_time': {'web dev': 8,\n",
       "  'data scince': 8,\n",
       "  'java with dsa and system design': 9}}"
      ]
     },
     "execution_count": 28,
     "metadata": {},
     "output_type": "execute_result"
    }
   ],
   "source": [
    "d6"
   ]
  },
  {
   "cell_type": "code",
   "execution_count": 30,
   "id": "564b6278-667c-4bb3-b79f-8c79421b8ff9",
   "metadata": {},
   "outputs": [
    {
     "data": {
      "text/plain": [
       "9"
      ]
     },
     "execution_count": 30,
     "metadata": {},
     "output_type": "execute_result"
    }
   ],
   "source": [
    "d6['class_time']['java with dsa and system design']"
   ]
  },
  {
   "cell_type": "code",
   "execution_count": 31,
   "id": "c1e3e9f6-2bad-4654-afb3-7e2bf3eb5d89",
   "metadata": {},
   "outputs": [
    {
     "data": {
      "text/plain": [
       "{'number': [2, 34, 3, 34],\n",
       " 'assignment': {1, 2, 3, 4, 5, 6},\n",
       " 'launch_date': {12, 14, 28},\n",
       " 'class_time': {'web dev': 8,\n",
       "  'data scince': 8,\n",
       "  'java with dsa and system design': 9}}"
      ]
     },
     "execution_count": 31,
     "metadata": {},
     "output_type": "execute_result"
    }
   ],
   "source": [
    "d6"
   ]
  },
  {
   "cell_type": "code",
   "execution_count": 32,
   "id": "d3918b7e-38df-4d7c-880d-dc42e3c3264d",
   "metadata": {},
   "outputs": [],
   "source": [
    "d6['mentor']=['sudhanshu','krish','anurag','hayder']"
   ]
  },
  {
   "cell_type": "code",
   "execution_count": 33,
   "id": "5d167157-8399-4a0d-8e92-cb7bd023eff2",
   "metadata": {},
   "outputs": [
    {
     "data": {
      "text/plain": [
       "{'number': [2, 34, 3, 34],\n",
       " 'assignment': {1, 2, 3, 4, 5, 6},\n",
       " 'launch_date': {12, 14, 28},\n",
       " 'class_time': {'web dev': 8,\n",
       "  'data scince': 8,\n",
       "  'java with dsa and system design': 9},\n",
       " 'mentor': ['sudhanshu', 'krish', 'anurag', 'hayder']}"
      ]
     },
     "execution_count": 33,
     "metadata": {},
     "output_type": "execute_result"
    }
   ],
   "source": [
    "d6"
   ]
  },
  {
   "cell_type": "code",
   "execution_count": 34,
   "id": "87a8f258-1a24-400c-80cf-6ebb349b9767",
   "metadata": {},
   "outputs": [],
   "source": [
    "del d6['number']"
   ]
  },
  {
   "cell_type": "code",
   "execution_count": 35,
   "id": "9a73460a-2251-4ba4-8d0f-5afca60d7a34",
   "metadata": {},
   "outputs": [
    {
     "data": {
      "text/plain": [
       "{'assignment': {1, 2, 3, 4, 5, 6},\n",
       " 'launch_date': {12, 14, 28},\n",
       " 'class_time': {'web dev': 8,\n",
       "  'data scince': 8,\n",
       "  'java with dsa and system design': 9},\n",
       " 'mentor': ['sudhanshu', 'krish', 'anurag', 'hayder']}"
      ]
     },
     "execution_count": 35,
     "metadata": {},
     "output_type": "execute_result"
    }
   ],
   "source": [
    "d6"
   ]
  },
  {
   "cell_type": "code",
   "execution_count": 37,
   "id": "e89aa736-895b-491d-8ffc-cc00ccb031c6",
   "metadata": {},
   "outputs": [
    {
     "data": {
      "text/plain": [
       "['assignment', 'launch_date', 'class_time', 'mentor']"
      ]
     },
     "execution_count": 37,
     "metadata": {},
     "output_type": "execute_result"
    }
   ],
   "source": [
    "list(d6.keys())"
   ]
  },
  {
   "cell_type": "code",
   "execution_count": 38,
   "id": "6d57007f-9c1d-4ae2-a4cf-dac675746973",
   "metadata": {},
   "outputs": [
    {
     "data": {
      "text/plain": [
       "[{1, 2, 3, 4, 5, 6},\n",
       " {12, 14, 28},\n",
       " {'web dev': 8, 'data scince': 8, 'java with dsa and system design': 9},\n",
       " ['sudhanshu', 'krish', 'anurag', 'hayder']]"
      ]
     },
     "execution_count": 38,
     "metadata": {},
     "output_type": "execute_result"
    }
   ],
   "source": [
    "list(d6.values())"
   ]
  },
  {
   "cell_type": "code",
   "execution_count": 40,
   "id": "c982ca07-8cd1-4453-bc53-36de35f220d9",
   "metadata": {},
   "outputs": [
    {
     "data": {
      "text/plain": [
       "[('assignment', {1, 2, 3, 4, 5, 6}),\n",
       " ('launch_date', {12, 14, 28}),\n",
       " ('class_time',\n",
       "  {'web dev': 8, 'data scince': 8, 'java with dsa and system design': 9}),\n",
       " ('mentor', ['sudhanshu', 'krish', 'anurag', 'hayder'])]"
      ]
     },
     "execution_count": 40,
     "metadata": {},
     "output_type": "execute_result"
    }
   ],
   "source": [
    "list(d6.items())"
   ]
  },
  {
   "cell_type": "code",
   "execution_count": 42,
   "id": "5c2d3083-53ff-4be3-8970-839a0a2be97f",
   "metadata": {},
   "outputs": [
    {
     "data": {
      "text/plain": [
       "{1, 2, 3, 4, 5, 6}"
      ]
     },
     "execution_count": 42,
     "metadata": {},
     "output_type": "execute_result"
    }
   ],
   "source": [
    "d6.pop('assignment')"
   ]
  },
  {
   "cell_type": "code",
   "execution_count": 43,
   "id": "ba14b206-448e-4d12-a29c-c58f8e09bc92",
   "metadata": {},
   "outputs": [
    {
     "data": {
      "text/plain": [
       "{'launch_date': {12, 14, 28},\n",
       " 'class_time': {'web dev': 8,\n",
       "  'data scince': 8,\n",
       "  'java with dsa and system design': 9},\n",
       " 'mentor': ['sudhanshu', 'krish', 'anurag', 'hayder']}"
      ]
     },
     "execution_count": 43,
     "metadata": {},
     "output_type": "execute_result"
    }
   ],
   "source": [
    "d6"
   ]
  },
  {
   "cell_type": "code",
   "execution_count": 44,
   "id": "5d53b30f-7afb-4654-a385-0d2ba6fb9983",
   "metadata": {},
   "outputs": [
    {
     "ename": "TypeError",
     "evalue": "pop expected at least 1 argument, got 0",
     "output_type": "error",
     "traceback": [
      "\u001b[0;31m---------------------------------------------------------------------------\u001b[0m",
      "\u001b[0;31mTypeError\u001b[0m                                 Traceback (most recent call last)",
      "Cell \u001b[0;32mIn[44], line 1\u001b[0m\n\u001b[0;32m----> 1\u001b[0m \u001b[43md6\u001b[49m\u001b[38;5;241;43m.\u001b[39;49m\u001b[43mpop\u001b[49m\u001b[43m(\u001b[49m\u001b[43m)\u001b[49m\n",
      "\u001b[0;31mTypeError\u001b[0m: pop expected at least 1 argument, got 0"
     ]
    }
   ],
   "source": [
    "d6.pop()"
   ]
  },
  {
   "cell_type": "code",
   "execution_count": 47,
   "id": "19abd15b-6648-4f52-afde-c7f0d4e48eb7",
   "metadata": {},
   "outputs": [
    {
     "data": {
      "text/plain": [
       "3"
      ]
     },
     "execution_count": 47,
     "metadata": {},
     "output_type": "execute_result"
    }
   ],
   "source": [
    "1+2"
   ]
  },
  {
   "cell_type": "code",
   "execution_count": 69,
   "id": "ac4f7f31-45f1-42b2-b559-16e2ad0919fe",
   "metadata": {},
   "outputs": [
    {
     "name": "stdout",
     "output_type": "stream",
     "text": [
      " you will be a part of A1 batch\n"
     ]
    }
   ],
   "source": [
    "marks =65\n",
    "if marks >=80:\n",
    "    print(\" you will be a part of A0 batch\")\n",
    "elif marks >=60 and marks <80:\n",
    "    print (\" you will be a part of A1 batch\")\n",
    "elif marks >=40 and marks <60:\n",
    "    print(\" you will be a part of A2 bartch\")\n",
    "else:\n",
    "    print(\"you will be a part of A3 bartch\")"
   ]
  },
  {
   "cell_type": "code",
   "execution_count": 70,
   "id": "13ad4c0f-3b78-4413-b55a-fe8ebd01cc92",
   "metadata": {},
   "outputs": [
    {
     "name": "stdout",
     "output_type": "stream",
     "text": [
      "you will be a part of A3 bartch\n"
     ]
    }
   ],
   "source": [
    "marks =-26542\n",
    "if marks >=80:\n",
    "    print(\" you will be a part of A0 batch\")\n",
    "elif marks >=60 and marks <80:\n",
    "    print (\" you will be a part of A1 batch\")\n",
    "elif marks >=40 and marks <60:\n",
    "    print(\" you will be a part of A2 bartch\")\n",
    "else:\n",
    "    print(\"you will be a part of A3 bartch\")"
   ]
  },
  {
   "cell_type": "code",
   "execution_count": 2,
   "id": "735fce65-cb75-4598-8a1b-19cc18edf5c8",
   "metadata": {},
   "outputs": [
    {
     "name": "stdout",
     "output_type": "stream",
     "text": [
      "you will be a part of A3 bartch\n"
     ]
    }
   ],
   "source": [
    "marks =10\n",
    "if marks >=80:\n",
    "    print(\" you will be a part of A0 batch\")\n",
    "elif marks >=60 and marks <80:\n",
    "    print (\" you will be a part of A1 batch\")\n",
    "elif marks >=40 and marks <60:\n",
    "    print(\" you will be a part of A2 bartch\")\n",
    "else:\n",
    "    print(\"you will be a part of A3 bartch\")"
   ]
  },
  {
   "cell_type": "code",
   "execution_count": 4,
   "id": "d80ccff2-4088-4b4c-b9bc-66e5edf35fb3",
   "metadata": {},
   "outputs": [
    {
     "name": "stdin",
     "output_type": "stream",
     "text": [
      " enter the number 10\n"
     ]
    },
    {
     "name": "stdout",
     "output_type": "stream",
     "text": [
      "you will be a part of A3 bartch\n"
     ]
    }
   ],
   "source": [
    "marks = int(input(\" enter the number\"))\n",
    "if marks >=80:\n",
    "    print(\" you will be a part of A0 batch\")\n",
    "elif marks >=60 and marks <80:\n",
    "    print (\" you will be a part of A1 batch\")\n",
    "elif marks >=40 and marks <60:\n",
    "    print(\" you will be a part of A2 bartch\")\n",
    "else:\n",
    "    print(\"you will be a part of A3 bartch\")"
   ]
  },
  {
   "cell_type": "code",
   "execution_count": 6,
   "id": "9a0e3241-6f45-429e-9bcf-cee724582b2d",
   "metadata": {},
   "outputs": [
    {
     "data": {
      "text/plain": [
       "int"
      ]
     },
     "execution_count": 6,
     "metadata": {},
     "output_type": "execute_result"
    }
   ],
   "source": [
    "type(marks)"
   ]
  },
  {
   "cell_type": "code",
   "execution_count": 2,
   "id": "c8c17afd-44fd-4fa1-87c8-84ceda8fdf8d",
   "metadata": {},
   "outputs": [
    {
     "name": "stdin",
     "output_type": "stream",
     "text": [
      "enter price 500\n"
     ]
    },
    {
     "name": "stdout",
     "output_type": "stream",
     "text": [
      "i will purchase\n"
     ]
    }
   ],
   "source": [
    " price = int(input (\"enter price\"))\n",
    "if price > 1000:\n",
    "    print(\"i will not purchase\")\n",
    "else :\n",
    "    print(\"i will purchase\")"
   ]
  },
  {
   "cell_type": "code",
   "execution_count": 10,
   "id": "5cfc1cd2-3780-459a-819a-ff9bef2196f6",
   "metadata": {},
   "outputs": [
    {
     "name": "stdin",
     "output_type": "stream",
     "text": [
      "enter price 5001\n"
     ]
    },
    {
     "name": "stdout",
     "output_type": "stream",
     "text": [
      "i will not purchase\n",
      " this is too much\n"
     ]
    }
   ],
   "source": [
    " price = int (input (\"enter price\"))\n",
    "if price > 1000:\n",
    "    print(\"i will not purchase\")\n",
    "##else :\n",
    "   ## print(\"i will purchase\")\n",
    "    if price >5000 :\n",
    "         print( \" this is too much\")\n",
    "    elif price <2000 :\n",
    "        print (\" its ok\")"
   ]
  },
  {
   "cell_type": "code",
   "execution_count": 11,
   "id": "386e6289-8ea2-47c9-a06a-b2aa2a4cc66a",
   "metadata": {},
   "outputs": [],
   "source": [
    "l= [1,2,3,4,5,6,7,8,9]"
   ]
  },
  {
   "cell_type": "code",
   "execution_count": 12,
   "id": "4804b7b6-b954-4583-87fa-d18aa3ea6343",
   "metadata": {},
   "outputs": [
    {
     "data": {
      "text/plain": [
       "2"
      ]
     },
     "execution_count": 12,
     "metadata": {},
     "output_type": "execute_result"
    }
   ],
   "source": [
    "l[0]+1"
   ]
  },
  {
   "cell_type": "code",
   "execution_count": 13,
   "id": "6349c1c8-7268-439b-a0ec-fcdc60bbb785",
   "metadata": {},
   "outputs": [],
   "source": [
    "l1=[]"
   ]
  },
  {
   "cell_type": "code",
   "execution_count": 14,
   "id": "abcec65e-d7e4-404a-a2a5-04b12c91dbb9",
   "metadata": {},
   "outputs": [],
   "source": [
    "l1.append(l[0]+1)"
   ]
  },
  {
   "cell_type": "code",
   "execution_count": 15,
   "id": "26da9e9f-ca3f-4c4e-a977-d136092712e9",
   "metadata": {},
   "outputs": [
    {
     "data": {
      "text/plain": [
       "[2]"
      ]
     },
     "execution_count": 15,
     "metadata": {},
     "output_type": "execute_result"
    }
   ],
   "source": [
    "l1"
   ]
  },
  {
   "cell_type": "code",
   "execution_count": 16,
   "id": "2212e06f-e560-4a39-98c6-c04dd8e5dd66",
   "metadata": {},
   "outputs": [
    {
     "data": {
      "text/plain": [
       "[1, 2, 3, 4, 5, 6, 7, 8, 9]"
      ]
     },
     "execution_count": 16,
     "metadata": {},
     "output_type": "execute_result"
    }
   ],
   "source": [
    "l"
   ]
  },
  {
   "cell_type": "code",
   "execution_count": 19,
   "id": "8f3af9ef-d5c6-4af3-9be8-55af020480e8",
   "metadata": {},
   "outputs": [
    {
     "name": "stdout",
     "output_type": "stream",
     "text": [
      "2\n",
      "3\n",
      "4\n",
      "5\n",
      "6\n",
      "7\n",
      "8\n",
      "9\n",
      "10\n"
     ]
    }
   ],
   "source": [
    " l1 = []\n",
    "for i in l :\n",
    "    print(i+1)\n",
    "    l1.append(i+1)"
   ]
  },
  {
   "cell_type": "code",
   "execution_count": 20,
   "id": "b6f958b1-dc97-4561-8759-4f23439bad1b",
   "metadata": {},
   "outputs": [
    {
     "data": {
      "text/plain": [
       "[1, 2, 3, 4, 5, 6, 7, 8, 9]"
      ]
     },
     "execution_count": 20,
     "metadata": {},
     "output_type": "execute_result"
    }
   ],
   "source": [
    "l"
   ]
  },
  {
   "cell_type": "code",
   "execution_count": 21,
   "id": "d4a51751-e88b-49e1-8e15-3521834fb4bb",
   "metadata": {},
   "outputs": [],
   "source": [
    "l=[\"sudh\", \"kumar \",\"pwskills\",\" course\"]"
   ]
  },
  {
   "cell_type": "code",
   "execution_count": 28,
   "id": "4cddb21a-700e-4448-a67f-cd8884472777",
   "metadata": {},
   "outputs": [
    {
     "name": "stdout",
     "output_type": "stream",
     "text": [
      "sudh\n",
      "kumar \n",
      "pwskills\n",
      " course\n"
     ]
    }
   ],
   "source": [
    "l1 = []\n",
    "for i in l:\n",
    "    print(i)\n",
    "    l1.append(i.upper())"
   ]
  },
  {
   "cell_type": "code",
   "execution_count": 29,
   "id": "c419cbbc-6770-425b-a7cd-d8943d72399b",
   "metadata": {},
   "outputs": [
    {
     "data": {
      "text/plain": [
       "['SUDH', 'KUMAR ', 'PWSKILLS', ' COURSE']"
      ]
     },
     "execution_count": 29,
     "metadata": {},
     "output_type": "execute_result"
    }
   ],
   "source": [
    "l1\n"
   ]
  },
  {
   "cell_type": "code",
   "execution_count": 31,
   "id": "cf1783c5-8d82-49ee-95de-26e9dc837673",
   "metadata": {},
   "outputs": [],
   "source": [
    "l = [1,2,3,4,4 , 'sudh','kumar', 2234,234,7786,'abc']"
   ]
  },
  {
   "cell_type": "code",
   "execution_count": 33,
   "id": "a3adb6e0-7433-41e2-ba17-c64e52b77d1d",
   "metadata": {},
   "outputs": [],
   "source": [
    "l1_num =[]\n",
    "l2_str=[]\n",
    "for i in l:\n",
    "    if type (i) == int or type (i) == float :\n",
    "        l1_num.append(i)\n",
    "    else :\n",
    "        l2_str.append(i)"
   ]
  },
  {
   "cell_type": "code",
   "execution_count": 34,
   "id": "ce7f7733-c8b3-4193-ba91-6933f58db22b",
   "metadata": {},
   "outputs": [
    {
     "data": {
      "text/plain": [
       "['SUDH', 'KUMAR ', 'PWSKILLS', ' COURSE']"
      ]
     },
     "execution_count": 34,
     "metadata": {},
     "output_type": "execute_result"
    }
   ],
   "source": [
    "l1"
   ]
  },
  {
   "cell_type": "code",
   "execution_count": 35,
   "id": "140bcfba-cd51-4979-8856-e35d30e68cc0",
   "metadata": {},
   "outputs": [
    {
     "data": {
      "text/plain": [
       "[1, 2, 3, 4, 4, 2234, 234, 7786]"
      ]
     },
     "execution_count": 35,
     "metadata": {},
     "output_type": "execute_result"
    }
   ],
   "source": [
    "l1_num"
   ]
  },
  {
   "cell_type": "code",
   "execution_count": 36,
   "id": "b92093fd-a7c8-434a-95b1-34ab9c586cca",
   "metadata": {},
   "outputs": [
    {
     "data": {
      "text/plain": [
       "['sudh', 'kumar', 'abc']"
      ]
     },
     "execution_count": 36,
     "metadata": {},
     "output_type": "execute_result"
    }
   ],
   "source": [
    "l2_str"
   ]
  },
  {
   "cell_type": "code",
   "execution_count": null,
   "id": "4c217fb8-cb9f-4446-9495-b5924eba7195",
   "metadata": {},
   "outputs": [],
   "source": [
    "100+samle"
   ]
  }
 ],
 "metadata": {
  "kernelspec": {
   "display_name": "Python 3 (ipykernel)",
   "language": "python",
   "name": "python3"
  },
  "language_info": {
   "codemirror_mode": {
    "name": "ipython",
    "version": 3
   },
   "file_extension": ".py",
   "mimetype": "text/x-python",
   "name": "python",
   "nbconvert_exporter": "python",
   "pygments_lexer": "ipython3",
   "version": "3.10.8"
  }
 },
 "nbformat": 4,
 "nbformat_minor": 5
}
